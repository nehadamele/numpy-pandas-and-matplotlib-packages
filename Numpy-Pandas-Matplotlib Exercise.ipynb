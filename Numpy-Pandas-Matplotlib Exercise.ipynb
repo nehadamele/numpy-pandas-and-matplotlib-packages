{
 "cells": [
  {
   "cell_type": "markdown",
   "metadata": {},
   "source": [
    "The following exercises are designed to help you get familiar with the basics of numpy, pandas, and matplotlib packages. These exercises are extension of material we discuss during lecture. You can access the lecture .ipynb files to get familiar with the basics.\n",
    "\n",
    "\n",
    "In order to complete this assignment, first you need to import proper packages and read data files into proper data structures.\n",
    "This is part of your \"class activity\". The __deadline__ for submitting this assignment is __Friday, Oct 15__.\n",
    "Submit your solution on __Gradescope__."
   ]
  },
  {
   "cell_type": "markdown",
   "metadata": {},
   "source": [
    "# Exercises\n",
    "\n",
    "## Numpy\n",
    "\n",
    "Check out the Numpy-Basics file and read the documentation at http://www.numpy.org\n",
    "Now it's your turn to do some practice with NumPy: \n",
    "\n",
    "#### 1. Create a 1-dimensional NumPy array of 100 random integers (1 pt)\n",
    "\n",
    "1.  Find and print all the summary statistics (mean, std, median, max, min, ...)\n",
    "2.  Compare the time for finding the max using python built-in functions and NumPy corresponding function\n",
    "3. Create a new array that is the base-2 logarithm of your array"
   ]
  },
  {
   "cell_type": "code",
   "execution_count": 21,
   "metadata": {
    "scrolled": true
   },
   "outputs": [
    {
     "name": "stdout",
     "output_type": "stream",
     "text": [
      "array max :  9\n",
      "array min :  0\n",
      "array mean :  4.83\n",
      "array median :  5.0\n",
      "array variance :  7.981100000000001\n",
      "array standard deviation :  2.825084069545542\n",
      "array percentile :  5.0\n",
      "statistic:   DescribeResult(nobs=100, minmax=(0, 9), mean=4.83, variance=8.061717171717174, skewness=-0.11685339336202319, kurtosis=-1.22673075688105)\n"
     ]
    }
   ],
   "source": [
    "# 1. All the summary statistics (mean, std, median, max, min, ...)\n",
    "import numpy as np\n",
    "from scipy import stats\n",
    "import time\n",
    "\n",
    "arr = np.random.randint(10,size=100)\n",
    "print(\"array max : \", np.max(arr))\n",
    "print(\"array min : \", np.min(arr))\n",
    "print(\"array mean : \", np.mean(arr))\n",
    "print(\"array median : \", np.median(arr))\n",
    "print(\"array variance : \", np.var(arr))\n",
    "\n",
    "print(\"array standard deviation : \", arr.std())\n",
    "print(\"array percentile : \", np.percentile(arr, 50))\n",
    "\n",
    "print(\"statistic:  \", stats.describe(arr))"
   ]
  },
  {
   "cell_type": "code",
   "execution_count": 25,
   "metadata": {},
   "outputs": [
    {
     "name": "stdout",
     "output_type": "stream",
     "text": [
      "Time taken to find max using pyhton built in functions:  0.0\n",
      "9\n",
      "Time taken to find max numpy function:  0.0\n"
     ]
    }
   ],
   "source": [
    "# 2.  Comparing the time for finding the max using python built-in functions and NumPy corresponding function\n",
    "start = time.time()\n",
    "\n",
    "# max_value = arr.max()\n",
    "\n",
    "max_value = 0\n",
    "for i in arr:\n",
    "    if i > max_value:\n",
    "        max_value = i\n",
    "print(\"Time taken to find max using pyhton built in functions: \", (time.time()-start)*1000)\n",
    "print(max_value)\n",
    "\n",
    "start = time.time()\n",
    "\n",
    "max_value = np.max(arr)\n",
    "print(\"Time taken to find max numpy function: \", (time.time()-start)*1000)\n"
   ]
  },
  {
   "cell_type": "code",
   "execution_count": 27,
   "metadata": {},
   "outputs": [
    {
     "name": "stdout",
     "output_type": "stream",
     "text": [
      "[3.169925   2.80735492 3.169925   2.80735492 2.32192809 2.80735492\n",
      " 3.         2.         2.5849625  3.169925   1.5849625  2.5849625\n",
      " 1.         2.80735492 1.         3.         1.               -inf\n",
      "       -inf 3.169925   1.5849625  2.80735492 3.169925   1.5849625\n",
      "       -inf 0.         2.80735492 3.         2.         0.\n",
      " 2.         2.5849625  1.5849625  2.32192809 2.32192809 3.\n",
      " 2.80735492 2.         3.169925   1.         0.         2.80735492\n",
      " 3.169925   1.5849625  2.80735492 2.         1.         1.5849625\n",
      " 3.169925         -inf 3.         1.         0.         2.5849625\n",
      " 1.5849625  1.5849625  1.               -inf 2.5849625  0.\n",
      " 2.         1.5849625  2.80735492 2.80735492 2.32192809 1.5849625\n",
      " 1.         2.32192809 2.32192809 2.5849625  1.5849625  2.5849625\n",
      "       -inf 1.         3.169925         -inf 3.169925   3.\n",
      " 2.5849625  1.         3.169925   1.         2.32192809 2.32192809\n",
      " 2.32192809 2.5849625  2.80735492 2.80735492 0.         3.169925\n",
      " 2.32192809 0.         0.         3.         3.         3.\n",
      " 2.5849625  1.         2.80735492 2.5849625 ]\n"
     ]
    },
    {
     "name": "stderr",
     "output_type": "stream",
     "text": [
      "<ipython-input-27-bd03d6ac6655>:2: RuntimeWarning: divide by zero encountered in log2\n",
      "  new_array = np.log2(arr)\n"
     ]
    }
   ],
   "source": [
    "#3. Create a new array that is the base-2 logarithm of your array\n",
    "new_array = np.log2(arr)\n",
    "print(new_array)"
   ]
  },
  {
   "cell_type": "markdown",
   "metadata": {},
   "source": [
    "#### 2. Create a 2-dimensional NumPy array of (3,4) random integers (mat1) (2 pts)\n",
    "\n",
    "1. Create another 2-D array that is the square root of your original array (mat2)\n",
    "2. Find how many values are greater than 20 using np.count_nonzero(  ) function ( you can also use np.sum( )\n",
    "3. Perform a dot product between two 2-D arrays (mat3)\n",
    "4. Find all the values that are less than 10 and greater than 30 in mat3"
   ]
  },
  {
   "cell_type": "code",
   "execution_count": 35,
   "metadata": {},
   "outputs": [
    {
     "data": {
      "text/plain": [
       "array([[23.87467277, 22.47220505,  8.71779789, 24.8394847 ],\n",
       "       [20.4450483 , 20.19900988, 25.11971337, 18.62793601],\n",
       "       [17.02938637, 18.94729532, 27.60434748, 17.88854382]])"
      ]
     },
     "execution_count": 35,
     "metadata": {},
     "output_type": "execute_result"
    }
   ],
   "source": [
    "# Your code here\n",
    "mat1 = np.random.randint(800, size=(3, 4))\n",
    "mat1\n",
    "mat2 = np.sqrt(mat1)\n",
    "mat2"
   ]
  },
  {
   "cell_type": "code",
   "execution_count": 36,
   "metadata": {},
   "outputs": [
    {
     "data": {
      "text/plain": [
       "7"
      ]
     },
     "execution_count": 36,
     "metadata": {},
     "output_type": "execute_result"
    }
   ],
   "source": [
    "greater = (mat2>20).sum()\n",
    "greater\n"
   ]
  },
  {
   "cell_type": "code",
   "execution_count": null,
   "metadata": {},
   "outputs": [],
   "source": []
  },
  {
   "cell_type": "code",
   "execution_count": null,
   "metadata": {},
   "outputs": [],
   "source": []
  },
  {
   "cell_type": "markdown",
   "metadata": {},
   "source": [
    "## Pandas\n",
    "\n",
    "Check out the pandas-basics file on Blackbaord. \n",
    "pandas documentation is very detailed and useful and contains a [short tutorial](https://pandas.pydata.org/pandas-docs/stable/user_guide/10min.html). You can also check this [Cheatsheet](https://github.com/pandas-dev/pandas/blob/master/doc/cheatsheet/Pandas_Cheat_Sheet.pdf)\n",
    "\n",
    "\n",
    "\n",
    "Now it's your turn to do some exercises and get familiar with Python. First, you are going to answer some questions about the movies dataset we already explored:\n",
    "\n",
    "####  3. Pandas basics with movies_by_year data (2 pts)\n",
    "\n",
    "Download the \"movies_by_year.csv\" file from Blackboard _(Weekly content : Week 6)_\n",
    "\n",
    "1. Get a quick statistical profile of Total_Gross column\n",
    "2. Get the summary statistics (mean,max,min,std) of Total_Gross for movies that were highest grossing movie of the year during 1995 - 2005\n",
    "3. Do the same thing for movies during 2005-2015 period\n",
    "4. What are some insights you gain from this comparison?\n",
    "\n",
    "\n"
   ]
  },
  {
   "cell_type": "code",
   "execution_count": 44,
   "metadata": {},
   "outputs": [],
   "source": [
    "# Your code goes here \n",
    "import pandas as pd\n",
    "dfmovies = pd.read_csv('movies_by_year.csv')\n",
    "# dfmovies\n"
   ]
  },
  {
   "cell_type": "code",
   "execution_count": 43,
   "metadata": {},
   "outputs": [
    {
     "name": "stdout",
     "output_type": "stream",
     "text": [
      "statistic:                 Year   Total Gross  Number of Movies\n",
      "count    36.000000     36.000000         36.000000\n",
      "mean   1997.500000   6984.169444        504.666667\n",
      "std      10.535654   2738.850447        114.518121\n",
      "min    1980.000000   2749.000000        161.000000\n",
      "25%    1988.750000   4717.000000        461.750000\n",
      "50%    1997.500000   6657.450000        504.000000\n",
      "75%    2006.250000   9443.050000        548.000000\n",
      "max    2015.000000  11128.500000        702.000000\n"
     ]
    }
   ],
   "source": [
    "# 1. Get a quick statistical profile of Total_Gross column\n",
    "\n",
    "print(\"statistic:  \", dfmovies.describe())"
   ]
  },
  {
   "cell_type": "code",
   "execution_count": 47,
   "metadata": {},
   "outputs": [
    {
     "name": "stdout",
     "output_type": "stream",
     "text": [
      "statistic:   count      11.000000\n",
      "mean     7714.281818\n",
      "std      1399.791323\n",
      "min      5493.500000\n",
      "25%      6657.450000\n",
      "50%      7661.000000\n",
      "75%      8997.750000\n",
      "max      9380.500000\n",
      "Name: Total Gross, dtype: float64\n"
     ]
    }
   ],
   "source": [
    "df2 = dfmovies[(dfmovies.Year > 1994) & (dfmovies.Year  < 2006)]['Total Gross']\n",
    "print(\"statistic:  \", df2.describe())"
   ]
  },
  {
   "cell_type": "code",
   "execution_count": 48,
   "metadata": {},
   "outputs": [
    {
     "name": "stdout",
     "output_type": "stream",
     "text": [
      "statistic:   count       11.000000\n",
      "mean     10175.472727\n",
      "std        744.507534\n",
      "min       8840.500000\n",
      "25%       9647.250000\n",
      "50%      10360.800000\n",
      "75%      10716.450000\n",
      "max      11128.500000\n",
      "Name: Total Gross, dtype: float64\n"
     ]
    }
   ],
   "source": [
    "df2 = dfmovies[(dfmovies.Year > 2004) & (dfmovies.Year  < 2016)]['Total Gross']\n",
    "print(\"statistic:  \", df2.describe())"
   ]
  },
  {
   "cell_type": "markdown",
   "metadata": {},
   "source": [
    "####  4. Pandas basics with risk dataset (2 pts)\n",
    "\n",
    "Download the \"Risk.csv\" file from Blackboard _(Weekly content : Week 8)_\n",
    "\n",
    "1. Find the minimum and maximum values of income\n",
    "2. Find the mean income based on gender\n",
    "3. Draw the histogram of income distribution based on gender\n"
   ]
  },
  {
   "cell_type": "code",
   "execution_count": 49,
   "metadata": {},
   "outputs": [
    {
     "data": {
      "text/html": [
       "<div>\n",
       "<style scoped>\n",
       "    .dataframe tbody tr th:only-of-type {\n",
       "        vertical-align: middle;\n",
       "    }\n",
       "\n",
       "    .dataframe tbody tr th {\n",
       "        vertical-align: top;\n",
       "    }\n",
       "\n",
       "    .dataframe thead th {\n",
       "        text-align: right;\n",
       "    }\n",
       "</style>\n",
       "<table border=\"1\" class=\"dataframe\">\n",
       "  <thead>\n",
       "    <tr style=\"text-align: right;\">\n",
       "      <th></th>\n",
       "      <th>ID</th>\n",
       "      <th>AGE</th>\n",
       "      <th>INCOME</th>\n",
       "      <th>GENDER</th>\n",
       "      <th>MARITAL</th>\n",
       "      <th>NUMKIDS</th>\n",
       "      <th>NUMCARDS</th>\n",
       "      <th>HOWPAID</th>\n",
       "      <th>MORTGAGE</th>\n",
       "      <th>STORECAR</th>\n",
       "      <th>LOANS</th>\n",
       "      <th>RISK</th>\n",
       "    </tr>\n",
       "  </thead>\n",
       "  <tbody>\n",
       "    <tr>\n",
       "      <th>0</th>\n",
       "      <td>100756</td>\n",
       "      <td>44</td>\n",
       "      <td>59944</td>\n",
       "      <td>m</td>\n",
       "      <td>married</td>\n",
       "      <td>1</td>\n",
       "      <td>2</td>\n",
       "      <td>monthly</td>\n",
       "      <td>y</td>\n",
       "      <td>2</td>\n",
       "      <td>0</td>\n",
       "      <td>good risk</td>\n",
       "    </tr>\n",
       "    <tr>\n",
       "      <th>1</th>\n",
       "      <td>100668</td>\n",
       "      <td>35</td>\n",
       "      <td>59692</td>\n",
       "      <td>m</td>\n",
       "      <td>married</td>\n",
       "      <td>1</td>\n",
       "      <td>1</td>\n",
       "      <td>monthly</td>\n",
       "      <td>y</td>\n",
       "      <td>1</td>\n",
       "      <td>0</td>\n",
       "      <td>bad loss</td>\n",
       "    </tr>\n",
       "    <tr>\n",
       "      <th>2</th>\n",
       "      <td>100418</td>\n",
       "      <td>34</td>\n",
       "      <td>59508</td>\n",
       "      <td>m</td>\n",
       "      <td>married</td>\n",
       "      <td>1</td>\n",
       "      <td>1</td>\n",
       "      <td>monthly</td>\n",
       "      <td>y</td>\n",
       "      <td>2</td>\n",
       "      <td>1</td>\n",
       "      <td>good risk</td>\n",
       "    </tr>\n",
       "    <tr>\n",
       "      <th>3</th>\n",
       "      <td>100416</td>\n",
       "      <td>34</td>\n",
       "      <td>59463</td>\n",
       "      <td>m</td>\n",
       "      <td>married</td>\n",
       "      <td>0</td>\n",
       "      <td>2</td>\n",
       "      <td>monthly</td>\n",
       "      <td>y</td>\n",
       "      <td>1</td>\n",
       "      <td>1</td>\n",
       "      <td>bad loss</td>\n",
       "    </tr>\n",
       "    <tr>\n",
       "      <th>4</th>\n",
       "      <td>100590</td>\n",
       "      <td>39</td>\n",
       "      <td>59393</td>\n",
       "      <td>f</td>\n",
       "      <td>married</td>\n",
       "      <td>0</td>\n",
       "      <td>2</td>\n",
       "      <td>monthly</td>\n",
       "      <td>y</td>\n",
       "      <td>1</td>\n",
       "      <td>0</td>\n",
       "      <td>good risk</td>\n",
       "    </tr>\n",
       "    <tr>\n",
       "      <th>...</th>\n",
       "      <td>...</td>\n",
       "      <td>...</td>\n",
       "      <td>...</td>\n",
       "      <td>...</td>\n",
       "      <td>...</td>\n",
       "      <td>...</td>\n",
       "      <td>...</td>\n",
       "      <td>...</td>\n",
       "      <td>...</td>\n",
       "      <td>...</td>\n",
       "      <td>...</td>\n",
       "      <td>...</td>\n",
       "    </tr>\n",
       "    <tr>\n",
       "      <th>4112</th>\n",
       "      <td>101121</td>\n",
       "      <td>20</td>\n",
       "      <td>15035</td>\n",
       "      <td>m</td>\n",
       "      <td>married</td>\n",
       "      <td>2</td>\n",
       "      <td>2</td>\n",
       "      <td>weekly</td>\n",
       "      <td>y</td>\n",
       "      <td>1</td>\n",
       "      <td>2</td>\n",
       "      <td>bad profit</td>\n",
       "    </tr>\n",
       "    <tr>\n",
       "      <th>4113</th>\n",
       "      <td>101602</td>\n",
       "      <td>23</td>\n",
       "      <td>15032</td>\n",
       "      <td>f</td>\n",
       "      <td>married</td>\n",
       "      <td>1</td>\n",
       "      <td>1</td>\n",
       "      <td>monthly</td>\n",
       "      <td>y</td>\n",
       "      <td>2</td>\n",
       "      <td>2</td>\n",
       "      <td>bad profit</td>\n",
       "    </tr>\n",
       "    <tr>\n",
       "      <th>4114</th>\n",
       "      <td>101983</td>\n",
       "      <td>25</td>\n",
       "      <td>15020</td>\n",
       "      <td>f</td>\n",
       "      <td>married</td>\n",
       "      <td>2</td>\n",
       "      <td>0</td>\n",
       "      <td>weekly</td>\n",
       "      <td>y</td>\n",
       "      <td>1</td>\n",
       "      <td>1</td>\n",
       "      <td>bad profit</td>\n",
       "    </tr>\n",
       "    <tr>\n",
       "      <th>4115</th>\n",
       "      <td>101819</td>\n",
       "      <td>24</td>\n",
       "      <td>15018</td>\n",
       "      <td>m</td>\n",
       "      <td>married</td>\n",
       "      <td>1</td>\n",
       "      <td>2</td>\n",
       "      <td>monthly</td>\n",
       "      <td>y</td>\n",
       "      <td>1</td>\n",
       "      <td>2</td>\n",
       "      <td>bad profit</td>\n",
       "    </tr>\n",
       "    <tr>\n",
       "      <th>4116</th>\n",
       "      <td>103676</td>\n",
       "      <td>50</td>\n",
       "      <td>15005</td>\n",
       "      <td>f</td>\n",
       "      <td>divsepwid</td>\n",
       "      <td>2</td>\n",
       "      <td>6</td>\n",
       "      <td>weekly</td>\n",
       "      <td>y</td>\n",
       "      <td>5</td>\n",
       "      <td>3</td>\n",
       "      <td>bad profit</td>\n",
       "    </tr>\n",
       "  </tbody>\n",
       "</table>\n",
       "<p>4117 rows × 12 columns</p>\n",
       "</div>"
      ],
      "text/plain": [
       "          ID  AGE  INCOME GENDER    MARITAL  NUMKIDS  NUMCARDS  HOWPAID  \\\n",
       "0     100756   44   59944      m    married        1         2  monthly   \n",
       "1     100668   35   59692      m    married        1         1  monthly   \n",
       "2     100418   34   59508      m    married        1         1  monthly   \n",
       "3     100416   34   59463      m    married        0         2  monthly   \n",
       "4     100590   39   59393      f    married        0         2  monthly   \n",
       "...      ...  ...     ...    ...        ...      ...       ...      ...   \n",
       "4112  101121   20   15035      m    married        2         2   weekly   \n",
       "4113  101602   23   15032      f    married        1         1  monthly   \n",
       "4114  101983   25   15020      f    married        2         0   weekly   \n",
       "4115  101819   24   15018      m    married        1         2  monthly   \n",
       "4116  103676   50   15005      f  divsepwid        2         6   weekly   \n",
       "\n",
       "     MORTGAGE  STORECAR  LOANS        RISK  \n",
       "0           y         2      0  good risk   \n",
       "1           y         1      0   bad loss   \n",
       "2           y         2      1  good risk   \n",
       "3           y         1      1   bad loss   \n",
       "4           y         1      0  good risk   \n",
       "...       ...       ...    ...         ...  \n",
       "4112        y         1      2  bad profit  \n",
       "4113        y         2      2  bad profit  \n",
       "4114        y         1      1  bad profit  \n",
       "4115        y         1      2  bad profit  \n",
       "4116        y         5      3  bad profit  \n",
       "\n",
       "[4117 rows x 12 columns]"
      ]
     },
     "execution_count": 49,
     "metadata": {},
     "output_type": "execute_result"
    }
   ],
   "source": [
    "# Your code goes here \n",
    "df_risk = pd.read_csv('Risk.csv')\n",
    "df_risk"
   ]
  },
  {
   "cell_type": "code",
   "execution_count": 75,
   "metadata": {},
   "outputs": [
    {
     "name": "stdout",
     "output_type": "stream",
     "text": [
      "Minimum values of income:  15005\n",
      "Maximum values of income:  59944\n"
     ]
    }
   ],
   "source": [
    "# 1. The minimum and maximum values of income\n",
    "\n",
    "min_income = df_risk['INCOME'].min()\n",
    "print(\"Minimum values of income: \", min_income)\n",
    "\n",
    "max_income = df_risk['INCOME'].max()\n",
    "print(\"Maximum values of income: \", max_income)\n"
   ]
  },
  {
   "cell_type": "code",
   "execution_count": 77,
   "metadata": {},
   "outputs": [
    {
     "name": "stdout",
     "output_type": "stream",
     "text": [
      "mean income based on gender : \n",
      "\n",
      " GENDER\n",
      "f    25370.143958\n",
      "m    25794.089706\n",
      "Name: INCOME, dtype: float64\n"
     ]
    }
   ],
   "source": [
    "#2. The mean income based on gender\n",
    "\n",
    "income_mean = df_risk.groupby('GENDER')['INCOME'].mean()\n",
    "\n",
    "print(\"mean income based on gender : \\n\\n\", income_mean)"
   ]
  },
  {
   "cell_type": "code",
   "execution_count": 80,
   "metadata": {},
   "outputs": [
    {
     "name": "stdout",
     "output_type": "stream",
     "text": [
      "income: <pandas.core.groupby.generic.DataFrameGroupBy object at 0x000001D707943FD0>\n"
     ]
    },
    {
     "data": {
      "text/plain": [
       "GENDER\n",
       "f    AxesSubplot(0.125,0.125;0.775x0.755)\n",
       "m    AxesSubplot(0.125,0.125;0.775x0.755)\n",
       "Name: INCOME, dtype: object"
      ]
     },
     "execution_count": 80,
     "metadata": {},
     "output_type": "execute_result"
    },
    {
     "data": {
      "image/png": "[encoded data removed]",
      "text/plain": [
       "<Figure size 432x288 with 1 Axes>"
      ]
     },
     "metadata": {
      "needs_background": "light"
     },
     "output_type": "display_data"
    }
   ],
   "source": [
    "#3. Draw the histogram of income distribution based on gender\n",
    "\n",
    "# df_income = df_risk.groupby('GENDER')['INCOME']\n",
    "# print(\"income:\", df_income)\n",
    "\n",
    "df_risk.groupby('GENDER')['INCOME'].hist(edgecolor ='black')"
   ]
  },
  {
   "cell_type": "code",
   "execution_count": 78,
   "metadata": {},
   "outputs": [
    {
     "data": {
      "text/plain": [
       "array([<AxesSubplot:title={'center':'f'}>,\n",
       "       <AxesSubplot:title={'center':'m'}>], dtype=object)"
      ]
     },
     "execution_count": 78,
     "metadata": {},
     "output_type": "execute_result"
    },
    {
     "data": {
      "image/png": "[encoded data removed]",
      "text/plain": [
       "<Figure size 432x288 with 2 Axes>"
      ]
     },
     "metadata": {
      "needs_background": "light"
     },
     "output_type": "display_data"
    }
   ],
   "source": [
    "# Pandas histogram by group:\n",
    "df_risk.hist(by='GENDER',\n",
    "       column='INCOME', edgecolor ='black')"
   ]
  },
  {
   "cell_type": "markdown",
   "metadata": {},
   "source": [
    "####  5. EDA with famous baby name dataset (3 pts)\n",
    "\n",
    "For downloading the data set go to [https://www.ssa.gov/oact/babynames/state/namesbystate.zip]\n",
    "or use [this box link](https://app.box.com/s/i52qu3mgmpwvikiggjmwwydgycw4d4bt) to access all the text files.\n",
    "\n",
    "1. How many men and women were counted?\n",
    "2. Count unique boy/girl names.\n",
    "3. Find top 10 popular names between 2000 - 2015 and plot their trend \n",
    "4. Create a new column titled namelength ( you can use str.len()). Then plot the averge length of names\n"
   ]
  },
  {
   "cell_type": "code",
   "execution_count": 7,
   "metadata": {},
   "outputs": [],
   "source": [
    "# Your code goes here "
   ]
  },
  {
   "cell_type": "code",
   "execution_count": 8,
   "metadata": {},
   "outputs": [],
   "source": [
    "# Your code goes here "
   ]
  },
  {
   "cell_type": "code",
   "execution_count": null,
   "metadata": {},
   "outputs": [],
   "source": []
  }
 ],
 "metadata": {
  "kernelspec": {
   "display_name": "Python 3",
   "language": "python",
   "name": "python3"
  },
  "language_info": {
   "codemirror_mode": {
    "name": "ipython",
    "version": 3
   },
   "file_extension": ".py",
   "mimetype": "text/x-python",
   "name": "python",
   "nbconvert_exporter": "python",
   "pygments_lexer": "ipython3",
   "version": "3.8.8"
  }
 },
 "nbformat": 4,
 "nbformat_minor": 2
}
